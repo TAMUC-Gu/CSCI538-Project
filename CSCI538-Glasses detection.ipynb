{
 "cells": [
  {
   "cell_type": "code",
   "execution_count": 1,
   "id": "291a85b7",
   "metadata": {},
   "outputs": [],
   "source": [
    "import os\n",
    "import shutil\n",
    "import yaml"
   ]
  },
  {
   "cell_type": "markdown",
   "id": "08210761",
   "metadata": {},
   "source": [
    "Define the path to the dataset"
   ]
  },
  {
   "cell_type": "code",
   "execution_count": 2,
   "id": "f831ca96",
   "metadata": {},
   "outputs": [],
   "source": [
    "dataset_path = 'C:/Users/keugm/repos/data'"
   ]
  },
  {
   "cell_type": "markdown",
   "id": "b6bbd0a6",
   "metadata": {},
   "source": [
    "Create a directory for the images and labels"
   ]
  },
  {
   "cell_type": "code",
   "execution_count": 3,
   "id": "1d56629d",
   "metadata": {},
   "outputs": [],
   "source": [
    "output_path = 'C:/Users/keugm/repos/Output'"
   ]
  },
  {
   "cell_type": "code",
   "execution_count": 4,
   "id": "99f48fe9",
   "metadata": {},
   "outputs": [],
   "source": [
    "image_path = os.path.join(output_path, 'images')\n",
    "os.makedirs(image_path, exist_ok = True)"
   ]
  },
  {
   "cell_type": "code",
   "execution_count": 5,
   "id": "d3e89a3d",
   "metadata": {},
   "outputs": [],
   "source": [
    "label_path = os.path.join(output_path, 'labels')\n",
    "os.makedirs(label_path, exist_ok = True)"
   ]
  },
  {
   "cell_type": "markdown",
   "id": "74ea4e29",
   "metadata": {},
   "source": [
    "If the file is an image, copy it to the images directory\n",
    "if the file is a label, copy it to the labels directory"
   ]
  },
  {
   "cell_type": "code",
   "execution_count": 6,
   "id": "e84dc401",
   "metadata": {},
   "outputs": [],
   "source": [
    "for filename in os.listdir(dataset_path):\n",
    "    if filename.endswith('.jpg') or filename.endswith('.jpeg'):\n",
    "        src_path = os.path.join(dataset_path, filename)\n",
    "        dst_path = os.path.join(image_path, filename)\n",
    "        shutil.copy(src_path, dst_path)\n",
    "    elif filename.endswith('.txt'):\n",
    "        src_path = os.path.join(dataset_path, filename)\n",
    "        dst_path = os.path.join(label_path, filename)\n",
    "        shutil.copy(src_path, dst_path)"
   ]
  },
  {
   "cell_type": "markdown",
   "id": "42a17e21",
   "metadata": {},
   "source": [
    "Define the path to the yaml file.\n",
    "Define the contents of the yaml file.\n",
    "write and save the yaml file"
   ]
  },
  {
   "cell_type": "code",
   "execution_count": 7,
   "id": "c3576fcc",
   "metadata": {},
   "outputs": [],
   "source": [
    "yaml_path = 'C:/Users/keugm/repos/yolov5/data/my_dataset.yaml'\n",
    "\n",
    "data = dict(train = '../yolov5/images',\n",
    "           val = '../yolov5/images',\n",
    "           nc = 2,\n",
    "           names = ['no_glasses', 'with_glasses'])\n",
    "with open(yaml_path, 'w') as f:\n",
    "    yaml.dump(data, f)"
   ]
  },
  {
   "cell_type": "code",
   "execution_count": 8,
   "id": "02abf193",
   "metadata": {},
   "outputs": [
    {
     "data": {
      "text/plain": [
       "'C:/Users/keugm/repos/yolov5\\\\labels'"
      ]
     },
     "execution_count": 8,
     "metadata": {},
     "output_type": "execute_result"
    }
   ],
   "source": [
    "yolov5_path = 'C:/Users/keugm/repos/yolov5'\n",
    "shutil.move('C:/Users/keugm/repos/Output/images', yolov5_path)\n",
    "shutil.move('C:/Users/keugm/repos/Output/labels', yolov5_path)"
   ]
  },
  {
   "cell_type": "markdown",
   "id": "93a213ad",
   "metadata": {},
   "source": [
    "Predicting on the test images.\n",
    "\n",
    "By using the yaml file, I have created above. \n",
    "\n",
    "We can run the train.py to putting the pre-trained model to the test by detecting glasses on individual or group photos in various positions."
   ]
  },
  {
   "cell_type": "code",
   "execution_count": 38,
   "id": "5ac2bd6b",
   "metadata": {},
   "outputs": [
    {
     "name": "stderr",
     "output_type": "stream",
     "text": [
      "\u001b[34m\u001b[1mtrain: \u001b[0mweights=yolov5s.pt, cfg=, data=C:/Users/keugm/repos/yolov5/data/my_dataset.yaml, hyp=data\\hyps\\hyp.scratch-low.yaml, epochs=3, batch_size=16, imgsz=640, rect=False, resume=False, nosave=False, noval=False, noautoanchor=False, noplots=False, evolve=None, bucket=, cache=None, image_weights=False, device=, multi_scale=False, single_cls=False, optimizer=SGD, sync_bn=False, workers=8, project=runs\\train, name=exp, exist_ok=False, quad=False, cos_lr=False, label_smoothing=0.0, patience=100, freeze=[0], save_period=-1, seed=0, local_rank=-1, entity=None, upload_dataset=False, bbox_interval=-1, artifact_alias=latest\n",
      "\u001b[34m\u001b[1mgithub: \u001b[0mup to date with https://github.com/ultralytics/yolov5 \n",
      "YOLOv5  v7.0-162-gc3e4e94 Python-3.11.1 torch-2.0.0+cpu CPU\n",
      "\n",
      "\u001b[34m\u001b[1mhyperparameters: \u001b[0mlr0=0.01, lrf=0.01, momentum=0.937, weight_decay=0.0005, warmup_epochs=3.0, warmup_momentum=0.8, warmup_bias_lr=0.1, box=0.05, cls=0.5, cls_pw=1.0, obj=1.0, obj_pw=1.0, iou_t=0.2, anchor_t=4.0, fl_gamma=0.0, hsv_h=0.015, hsv_s=0.7, hsv_v=0.4, degrees=0.0, translate=0.1, scale=0.5, shear=0.0, perspective=0.0, flipud=0.0, fliplr=0.5, mosaic=1.0, mixup=0.0, copy_paste=0.0\n",
      "\u001b[34m\u001b[1mClearML: \u001b[0mrun 'pip install clearml' to automatically track, visualize and remotely train YOLOv5  in ClearML\n",
      "\u001b[34m\u001b[1mComet: \u001b[0mrun 'pip install comet_ml' to automatically track and visualize YOLOv5  runs in Comet\n",
      "\u001b[34m\u001b[1mTensorBoard: \u001b[0mStart with 'tensorboard --logdir runs\\train', view at http://localhost:6006/\n",
      "Downloading https://ultralytics.com/assets/Arial.ttf to C:\\Users\\keugm\\AppData\\Roaming\\Ultralytics\\Arial.ttf...\n",
      "\n",
      "  0%|          | 0.00/755k [00:00<?, ?B/s]\n",
      " 73%|#######3  | 552k/755k [00:00<00:00, 5.11MB/s]\n",
      "100%|##########| 755k/755k [00:00<00:00, 5.80MB/s]\n",
      "Overriding model.yaml nc=80 with nc=2\n",
      "\n",
      "                 from  n    params  module                                  arguments                     \n",
      "  0                -1  1      3520  models.common.Conv                      [3, 32, 6, 2, 2]              \n",
      "  1                -1  1     18560  models.common.Conv                      [32, 64, 3, 2]                \n",
      "  2                -1  1     18816  models.common.C3                        [64, 64, 1]                   \n",
      "  3                -1  1     73984  models.common.Conv                      [64, 128, 3, 2]               \n",
      "  4                -1  2    115712  models.common.C3                        [128, 128, 2]                 \n",
      "  5                -1  1    295424  models.common.Conv                      [128, 256, 3, 2]              \n",
      "  6                -1  3    625152  models.common.C3                        [256, 256, 3]                 \n",
      "  7                -1  1   1180672  models.common.Conv                      [256, 512, 3, 2]              \n",
      "  8                -1  1   1182720  models.common.C3                        [512, 512, 1]                 \n",
      "  9                -1  1    656896  models.common.SPPF                      [512, 512, 5]                 \n",
      " 10                -1  1    131584  models.common.Conv                      [512, 256, 1, 1]              \n",
      " 11                -1  1         0  torch.nn.modules.upsampling.Upsample    [None, 2, 'nearest']          \n",
      " 12           [-1, 6]  1         0  models.common.Concat                    [1]                           \n",
      " 13                -1  1    361984  models.common.C3                        [512, 256, 1, False]          \n",
      " 14                -1  1     33024  models.common.Conv                      [256, 128, 1, 1]              \n",
      " 15                -1  1         0  torch.nn.modules.upsampling.Upsample    [None, 2, 'nearest']          \n",
      " 16           [-1, 4]  1         0  models.common.Concat                    [1]                           \n",
      " 17                -1  1     90880  models.common.C3                        [256, 128, 1, False]          \n",
      " 18                -1  1    147712  models.common.Conv                      [128, 128, 3, 2]              \n",
      " 19          [-1, 14]  1         0  models.common.Concat                    [1]                           \n",
      " 20                -1  1    296448  models.common.C3                        [256, 256, 1, False]          \n",
      " 21                -1  1    590336  models.common.Conv                      [256, 256, 3, 2]              \n",
      " 22          [-1, 10]  1         0  models.common.Concat                    [1]                           \n",
      " 23                -1  1   1182720  models.common.C3                        [512, 512, 1, False]          \n",
      " 24      [17, 20, 23]  1     18879  models.yolo.Detect                      [2, [[10, 13, 16, 30, 33, 23], [30, 61, 62, 45, 59, 119], [116, 90, 156, 198, 373, 326]], [128, 256, 512]]\n",
      "Model summary: 214 layers, 7025023 parameters, 7025023 gradients, 16.0 GFLOPs\n",
      "\n",
      "Transferred 343/349 items from yolov5s.pt\n",
      "\u001b[34m\u001b[1moptimizer:\u001b[0m SGD(lr=0.01) with parameter groups 57 weight(decay=0.0), 60 weight(decay=0.0005), 60 bias\n",
      "\n",
      "\u001b[34m\u001b[1mtrain: \u001b[0mScanning C:\\Users\\keugm\\repos\\yolov5\\labels...:   0%|          | 0/133 [00:00<?, ?it/s]\n",
      "\u001b[34m\u001b[1mtrain: \u001b[0mScanning C:\\Users\\keugm\\repos\\yolov5\\labels... 1 images, 0 backgrounds, 0 corrupt:   1%|          | 1/133 [00:21<47:37, 21.64s/it]\n",
      "\u001b[34m\u001b[1mtrain: \u001b[0mScanning C:\\Users\\keugm\\repos\\yolov5\\labels... 77 images, 0 backgrounds, 0 corrupt:  58%|#####7    | 77/133 [00:21<00:11,  5.03it/s]\n",
      "\u001b[34m\u001b[1mtrain: \u001b[0mScanning C:\\Users\\keugm\\repos\\yolov5\\labels... 133 images, 0 backgrounds, 0 corrupt: 100%|##########| 133/133 [00:21<00:00,  6.10it/s]\n",
      "\u001b[34m\u001b[1mtrain: \u001b[0mNew cache created: C:\\Users\\keugm\\repos\\yolov5\\labels.cache\n",
      "\n",
      "\u001b[34m\u001b[1mval: \u001b[0mScanning C:\\Users\\keugm\\repos\\yolov5\\labels.cache... 133 images, 0 backgrounds, 0 corrupt: 100%|##########| 133/133 [00:00<?, ?it/s]\n",
      "\u001b[34m\u001b[1mval: \u001b[0mScanning C:\\Users\\keugm\\repos\\yolov5\\labels.cache... 133 images, 0 backgrounds, 0 corrupt: 100%|##########| 133/133 [00:00<?, ?it/s]\n",
      "\n",
      "\u001b[34m\u001b[1mAutoAnchor: \u001b[0m4.40 anchors/target, 1.000 Best Possible Recall (BPR). Current anchors are a good fit to dataset \n",
      "Plotting labels to runs\\train\\exp\\labels.jpg... \n",
      "Image sizes 640 train, 640 val\n",
      "Using 8 dataloader workers\n",
      "Logging results to \u001b[1mruns\\train\\exp\u001b[0m\n",
      "Starting training for 3 epochs...\n",
      "\n",
      "      Epoch    GPU_mem   box_loss   obj_loss   cls_loss  Instances       Size\n",
      "\n",
      "  0%|          | 0/9 [00:00<?, ?it/s]\n",
      "        0/2         0G     0.1343    0.02695    0.03168         32        640:   0%|          | 0/9 [01:05<?, ?it/s]\n",
      "        0/2         0G     0.1343    0.02695    0.03168         32        640:  11%|#1        | 1/9 [01:11<09:31, 71.47s/it]\n",
      "        0/2         0G      0.134    0.02666    0.03132         30        640:  11%|#1        | 1/9 [01:38<09:31, 71.47s/it]\n",
      "        0/2         0G      0.134    0.02666    0.03132         30        640:  22%|##2       | 2/9 [01:38<05:16, 45.19s/it]\n",
      "        0/2         0G     0.1341    0.02621    0.03121         21        640:  22%|##2       | 2/9 [02:06<05:16, 45.19s/it]\n",
      "        0/2         0G     0.1341    0.02621    0.03121         21        640:  33%|###3      | 3/9 [02:06<03:44, 37.42s/it]\n",
      "        0/2         0G     0.1324    0.02636    0.03128         26        640:  33%|###3      | 3/9 [02:33<03:44, 37.42s/it]\n",
      "        0/2         0G     0.1324    0.02636    0.03128         26        640:  44%|####4     | 4/9 [02:33<02:47, 33.42s/it]\n",
      "        0/2         0G      0.132    0.02643    0.03121         32        640:  44%|####4     | 4/9 [03:01<02:47, 33.42s/it]\n",
      "        0/2         0G      0.132    0.02643    0.03121         32        640:  56%|#####5    | 5/9 [03:01<02:05, 31.45s/it]\n",
      "        0/2         0G      0.131    0.02654    0.03119         34        640:  56%|#####5    | 5/9 [03:30<02:05, 31.45s/it]\n",
      "        0/2         0G      0.131    0.02654    0.03119         34        640:  67%|######6   | 6/9 [03:30<01:31, 30.62s/it]\n",
      "        0/2         0G     0.1306    0.02635    0.03108         27        640:  67%|######6   | 6/9 [03:59<01:31, 30.62s/it]\n",
      "        0/2         0G     0.1306    0.02635    0.03108         27        640:  78%|#######7  | 7/9 [03:59<01:00, 30.18s/it]\n",
      "        0/2         0G     0.1294    0.02623    0.03088         26        640:  78%|#######7  | 7/9 [04:29<01:00, 30.18s/it]\n",
      "        0/2         0G     0.1294    0.02623    0.03088         26        640:  89%|########8 | 8/9 [04:29<00:30, 30.06s/it]\n",
      "        0/2         0G      0.128    0.02602    0.03062          7        640:  89%|########8 | 8/9 [04:37<00:30, 30.06s/it]\n",
      "        0/2         0G      0.128    0.02602    0.03062          7        640: 100%|##########| 9/9 [04:37<00:00, 23.21s/it]\n",
      "        0/2         0G      0.128    0.02602    0.03062          7        640: 100%|##########| 9/9 [04:37<00:00, 30.88s/it]\n",
      "\n",
      "                 Class     Images  Instances          P          R      mAP50   mAP50-95:   0%|          | 0/5 [00:00<?, ?it/s]WARNING  NMS time limit 2.100s exceeded\n",
      "\n",
      "                 Class     Images  Instances          P          R      mAP50   mAP50-95:  20%|##        | 1/5 [00:14<00:56, 14.16s/it]WARNING  NMS time limit 2.100s exceeded\n",
      "\n",
      "                 Class     Images  Instances          P          R      mAP50   mAP50-95:  40%|####      | 2/5 [00:34<00:54, 18.06s/it]WARNING  NMS time limit 2.100s exceeded\n",
      "\n",
      "                 Class     Images  Instances          P          R      mAP50   mAP50-95:  60%|######    | 3/5 [00:50<00:34, 17.01s/it]WARNING  NMS time limit 2.100s exceeded\n",
      "\n",
      "                 Class     Images  Instances          P          R      mAP50   mAP50-95:  80%|########  | 4/5 [01:02<00:14, 14.82s/it]WARNING  NMS time limit 0.750s exceeded\n",
      "\n",
      "                 Class     Images  Instances          P          R      mAP50   mAP50-95: 100%|##########| 5/5 [01:04<00:00, 10.47s/it]\n",
      "                 Class     Images  Instances          P          R      mAP50   mAP50-95: 100%|##########| 5/5 [01:04<00:00, 12.99s/it]\n",
      "                   all        133        140   0.000197    0.00625   0.000103   5.15e-05\n",
      "\n",
      "      Epoch    GPU_mem   box_loss   obj_loss   cls_loss  Instances       Size\n",
      "\n",
      "  0%|          | 0/9 [00:00<?, ?it/s]\n",
      "        1/2         0G     0.1186    0.02656    0.03059         33        640:   0%|          | 0/9 [00:33<?, ?it/s]\n",
      "        1/2         0G     0.1186    0.02656    0.03059         33        640:  11%|#1        | 1/9 [00:33<04:25, 33.13s/it]\n",
      "        1/2         0G     0.1184    0.02554    0.02955         29        640:  11%|#1        | 1/9 [00:58<04:25, 33.13s/it]\n",
      "        1/2         0G     0.1184    0.02554    0.02955         29        640:  22%|##2       | 2/9 [00:58<03:18, 28.29s/it]\n",
      "        1/2         0G     0.1171    0.02561    0.02951         33        640:  22%|##2       | 2/9 [01:24<03:18, 28.29s/it]\n",
      "        1/2         0G     0.1171    0.02561    0.02951         33        640:  33%|###3      | 3/9 [01:24<02:44, 27.38s/it]\n",
      "        1/2         0G      0.116    0.02541    0.02954         29        640:  33%|###3      | 3/9 [01:53<02:44, 27.38s/it]\n",
      "        1/2         0G      0.116    0.02541    0.02954         29        640:  44%|####4     | 4/9 [01:53<02:21, 28.21s/it]\n",
      "        1/2         0G     0.1147    0.02524    0.02933         29        640:  44%|####4     | 4/9 [02:21<02:21, 28.21s/it]\n",
      "        1/2         0G     0.1147    0.02524    0.02933         29        640:  56%|#####5    | 5/9 [02:21<01:51, 27.97s/it]\n",
      "        1/2         0G     0.1144    0.02551    0.02932         39        640:  56%|#####5    | 5/9 [02:54<01:51, 27.97s/it]\n",
      "        1/2         0G     0.1144    0.02551    0.02932         39        640:  67%|######6   | 6/9 [02:54<01:29, 29.78s/it]\n",
      "        1/2         0G      0.113    0.02546     0.0293         27        640:  67%|######6   | 6/9 [03:22<01:29, 29.78s/it]\n",
      "        1/2         0G      0.113    0.02546     0.0293         27        640:  78%|#######7  | 7/9 [03:22<00:58, 29.01s/it]\n",
      "        1/2         0G     0.1123    0.02508    0.02928         22        640:  78%|#######7  | 7/9 [03:49<00:58, 29.01s/it]\n",
      "        1/2         0G     0.1123    0.02508    0.02928         22        640:  89%|########8 | 8/9 [03:49<00:28, 28.38s/it]\n",
      "        1/2         0G     0.1119    0.02518    0.02932         11        640:  89%|########8 | 8/9 [03:57<00:28, 28.38s/it]\n",
      "        1/2         0G     0.1119    0.02518    0.02932         11        640: 100%|##########| 9/9 [03:57<00:00, 22.05s/it]\n",
      "        1/2         0G     0.1119    0.02518    0.02932         11        640: 100%|##########| 9/9 [03:57<00:00, 26.36s/it]\n",
      "\n",
      "                 Class     Images  Instances          P          R      mAP50   mAP50-95:   0%|          | 0/5 [00:00<?, ?it/s]WARNING  NMS time limit 2.100s exceeded\n",
      "\n",
      "                 Class     Images  Instances          P          R      mAP50   mAP50-95:  20%|##        | 1/5 [00:14<00:57, 14.36s/it]WARNING  NMS time limit 2.100s exceeded\n",
      "\n",
      "                 Class     Images  Instances          P          R      mAP50   mAP50-95:  40%|####      | 2/5 [00:34<00:53, 17.97s/it]WARNING  NMS time limit 2.100s exceeded\n",
      "\n",
      "                 Class     Images  Instances          P          R      mAP50   mAP50-95:  60%|######    | 3/5 [00:50<00:34, 17.01s/it]WARNING  NMS time limit 2.100s exceeded\n",
      "\n",
      "                 Class     Images  Instances          P          R      mAP50   mAP50-95:  80%|########  | 4/5 [01:02<00:14, 14.90s/it]WARNING  NMS time limit 0.750s exceeded\n",
      "\n",
      "                 Class     Images  Instances          P          R      mAP50   mAP50-95: 100%|##########| 5/5 [01:05<00:00, 10.56s/it]\n",
      "                 Class     Images  Instances          P          R      mAP50   mAP50-95: 100%|##########| 5/5 [01:05<00:00, 13.05s/it]\n",
      "                   all        133        140   0.000599     0.0354    0.00044     0.0001\n",
      "\n",
      "      Epoch    GPU_mem   box_loss   obj_loss   cls_loss  Instances       Size\n",
      "\n",
      "  0%|          | 0/9 [00:00<?, ?it/s]\n",
      "        2/2         0G     0.1061    0.02406    0.02861         28        640:   0%|          | 0/9 [00:33<?, ?it/s]\n",
      "        2/2         0G     0.1061    0.02406    0.02861         28        640:  11%|#1        | 1/9 [00:33<04:24, 33.02s/it]\n",
      "        2/2         0G     0.1064    0.02463    0.02829         34        640:  11%|#1        | 1/9 [00:58<04:24, 33.02s/it]\n",
      "        2/2         0G     0.1064    0.02463    0.02829         34        640:  22%|##2       | 2/9 [00:58<03:19, 28.46s/it]\n",
      "        2/2         0G     0.1052    0.02374    0.02908         23        640:  22%|##2       | 2/9 [01:26<03:19, 28.46s/it]\n",
      "        2/2         0G     0.1052    0.02374    0.02908         23        640:  33%|###3      | 3/9 [01:26<02:50, 28.46s/it]\n",
      "        2/2         0G     0.1051    0.02435    0.02898         36        640:  33%|###3      | 3/9 [01:54<02:50, 28.46s/it]\n",
      "        2/2         0G     0.1051    0.02435    0.02898         36        640:  44%|####4     | 4/9 [01:54<02:21, 28.37s/it]\n",
      "        2/2         0G     0.1047    0.02532    0.02884         41        640:  44%|####4     | 4/9 [02:21<02:21, 28.37s/it]\n",
      "        2/2         0G     0.1047    0.02532    0.02884         41        640:  56%|#####5    | 5/9 [02:21<01:51, 27.77s/it]\n",
      "        2/2         0G     0.1041    0.02526    0.02869         34        640:  56%|#####5    | 5/9 [02:51<01:51, 27.77s/it]\n",
      "        2/2         0G     0.1041    0.02526    0.02869         34        640:  67%|######6   | 6/9 [02:51<01:25, 28.42s/it]\n",
      "        2/2         0G     0.1028    0.02497    0.02876         25        640:  67%|######6   | 6/9 [03:18<01:25, 28.42s/it]\n",
      "        2/2         0G     0.1028    0.02497    0.02876         25        640:  78%|#######7  | 7/9 [03:18<00:56, 28.00s/it]\n",
      "        2/2         0G     0.1018    0.02478    0.02882         27        640:  78%|#######7  | 7/9 [03:46<00:56, 28.00s/it]\n",
      "        2/2         0G     0.1018    0.02478    0.02882         27        640:  89%|########8 | 8/9 [03:46<00:27, 27.90s/it]\n",
      "        2/2         0G     0.1019    0.02469    0.02891         11        640:  89%|########8 | 8/9 [03:54<00:27, 27.90s/it]\n",
      "        2/2         0G     0.1019    0.02469    0.02891         11        640: 100%|##########| 9/9 [03:54<00:00, 21.83s/it]\n",
      "        2/2         0G     0.1019    0.02469    0.02891         11        640: 100%|##########| 9/9 [03:54<00:00, 26.08s/it]\n",
      "\n",
      "                 Class     Images  Instances          P          R      mAP50   mAP50-95:   0%|          | 0/5 [00:00<?, ?it/s]WARNING  NMS time limit 2.100s exceeded\n",
      "\n",
      "                 Class     Images  Instances          P          R      mAP50   mAP50-95:  20%|##        | 1/5 [00:14<00:57, 14.42s/it]WARNING  NMS time limit 2.100s exceeded\n",
      "\n",
      "                 Class     Images  Instances          P          R      mAP50   mAP50-95:  40%|####      | 2/5 [00:34<00:53, 17.72s/it]WARNING  NMS time limit 2.100s exceeded\n",
      "\n",
      "                 Class     Images  Instances          P          R      mAP50   mAP50-95:  60%|######    | 3/5 [00:50<00:34, 17.01s/it]WARNING  NMS time limit 2.100s exceeded\n",
      "\n",
      "                 Class     Images  Instances          P          R      mAP50   mAP50-95:  80%|########  | 4/5 [01:03<00:15, 15.24s/it]WARNING  NMS time limit 0.750s exceeded\n",
      "\n",
      "                 Class     Images  Instances          P          R      mAP50   mAP50-95: 100%|##########| 5/5 [01:05<00:00, 10.72s/it]\n",
      "                 Class     Images  Instances          P          R      mAP50   mAP50-95: 100%|##########| 5/5 [01:05<00:00, 13.17s/it]\n",
      "                   all        133        140   0.000917     0.0604   0.000656   0.000157\n",
      "\n",
      "3 epochs completed in 0.264 hours.\n",
      "Optimizer stripped from runs\\train\\exp\\weights\\last.pt, 14.4MB\n",
      "Optimizer stripped from runs\\train\\exp\\weights\\best.pt, 14.4MB\n",
      "\n",
      "Validating runs\\train\\exp\\weights\\best.pt...\n",
      "Fusing layers... \n",
      "Model summary: 157 layers, 7015519 parameters, 0 gradients, 15.8 GFLOPs\n",
      "\n",
      "                 Class     Images  Instances          P          R      mAP50   mAP50-95:   0%|          | 0/5 [00:00<?, ?it/s]WARNING  NMS time limit 2.100s exceeded\n",
      "\n",
      "                 Class     Images  Instances          P          R      mAP50   mAP50-95:  20%|##        | 1/5 [00:13<00:52, 13.11s/it]WARNING  NMS time limit 2.100s exceeded\n",
      "\n",
      "                 Class     Images  Instances          P          R      mAP50   mAP50-95:  40%|####      | 2/5 [00:32<00:49, 16.65s/it]WARNING  NMS time limit 2.100s exceeded\n",
      "\n",
      "                 Class     Images  Instances          P          R      mAP50   mAP50-95:  60%|######    | 3/5 [00:47<00:31, 15.85s/it]WARNING  NMS time limit 2.100s exceeded\n",
      "\n",
      "                 Class     Images  Instances          P          R      mAP50   mAP50-95:  80%|########  | 4/5 [00:58<00:14, 14.21s/it]WARNING  NMS time limit 0.750s exceeded\n",
      "\n",
      "                 Class     Images  Instances          P          R      mAP50   mAP50-95: 100%|##########| 5/5 [01:01<00:00, 10.00s/it]\n",
      "                 Class     Images  Instances          P          R      mAP50   mAP50-95: 100%|##########| 5/5 [01:01<00:00, 12.27s/it]\n",
      "                   all        133        140   0.000889     0.0604   0.000608   0.000146\n",
      "            no_glasses        133         60   0.000422     0.0333   0.000219   4.33e-05\n",
      "          with_glasses        133         80    0.00136     0.0875   0.000997   0.000249\n",
      "Results saved to \u001b[1mruns\\train\\exp\u001b[0m\n"
     ]
    }
   ],
   "source": [
    "!python train.py --img 640 --epochs 3 --data C:/Users/keugm/repos/yolov5/data/my_dataset.yaml --weights yolov5s.pt"
   ]
  },
  {
   "cell_type": "code",
   "execution_count": null,
   "id": "ed188d2b",
   "metadata": {},
   "outputs": [],
   "source": []
  }
 ],
 "metadata": {
  "kernelspec": {
   "display_name": "Python 3 (ipykernel)",
   "language": "python",
   "name": "python3"
  },
  "language_info": {
   "codemirror_mode": {
    "name": "ipython",
    "version": 3
   },
   "file_extension": ".py",
   "mimetype": "text/x-python",
   "name": "python",
   "nbconvert_exporter": "python",
   "pygments_lexer": "ipython3",
   "version": "3.11.1"
  }
 },
 "nbformat": 4,
 "nbformat_minor": 5
}
